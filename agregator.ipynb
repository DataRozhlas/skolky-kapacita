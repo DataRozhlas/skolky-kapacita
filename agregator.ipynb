{
 "cells": [
  {
   "cell_type": "code",
   "execution_count": 1,
   "metadata": {
    "collapsed": true
   },
   "outputs": [],
   "source": [
    "import pandas as pd"
   ]
  },
  {
   "cell_type": "code",
   "execution_count": 26,
   "metadata": {
    "collapsed": false
   },
   "outputs": [],
   "source": [
    "data = pd.read_excel(r'data/MŠ_2014_součásti_kapacity_děti_ČRozhlas.xlsx')"
   ]
  },
  {
   "cell_type": "code",
   "execution_count": 27,
   "metadata": {
    "collapsed": false
   },
   "outputs": [
    {
     "data": {
      "text/html": [
       "<div style=\"max-height:1000px;max-width:1500px;overflow:auto;\">\n",
       "<table border=\"1\" class=\"dataframe\">\n",
       "  <thead>\n",
       "    <tr style=\"text-align: right;\">\n",
       "      <th></th>\n",
       "      <th>IZONEW</th>\n",
       "      <th>ROK</th>\n",
       "      <th>zruš</th>\n",
       "      <th>RED_IZO</th>\n",
       "      <th>ZRIZ</th>\n",
       "      <th>ULICE</th>\n",
       "      <th>PSČ</th>\n",
       "      <th>MÍSTO</th>\n",
       "      <th>KRAJ</th>\n",
       "      <th>OKRES</th>\n",
       "      <th>CILKAPA</th>\n",
       "      <th>počet dětí celkem</th>\n",
       "      <th>naplněnost</th>\n",
       "      <th>počet dětí v běžných třídách</th>\n",
       "      <th>počet dětí ve speciálních třídách</th>\n",
       "      <th>spec_škola</th>\n",
       "    </tr>\n",
       "  </thead>\n",
       "  <tbody>\n",
       "    <tr>\n",
       "      <th>0</th>\n",
       "      <td>  88251</td>\n",
       "      <td> 2014</td>\n",
       "      <td> N</td>\n",
       "      <td> 600024474</td>\n",
       "      <td> 7</td>\n",
       "      <td>      9. května 531</td>\n",
       "      <td> 57101</td>\n",
       "      <td> Moravská Třebová</td>\n",
       "      <td> CZ053</td>\n",
       "      <td> CZ0533</td>\n",
       "      <td>  30</td>\n",
       "      <td>  14</td>\n",
       "      <td> 0.466667</td>\n",
       "      <td>   0</td>\n",
       "      <td> 14</td>\n",
       "      <td> A</td>\n",
       "    </tr>\n",
       "    <tr>\n",
       "      <th>1</th>\n",
       "      <td> 391247</td>\n",
       "      <td> 2014</td>\n",
       "      <td> N</td>\n",
       "      <td> 600023401</td>\n",
       "      <td> 7</td>\n",
       "      <td> E.Krásnohorské 921</td>\n",
       "      <td> 46001</td>\n",
       "      <td>          Liberec</td>\n",
       "      <td> CZ051</td>\n",
       "      <td> CZ0513</td>\n",
       "      <td>  24</td>\n",
       "      <td>  24</td>\n",
       "      <td> 1.000000</td>\n",
       "      <td>   0</td>\n",
       "      <td> 24</td>\n",
       "      <td> A</td>\n",
       "    </tr>\n",
       "    <tr>\n",
       "      <th>2</th>\n",
       "      <td> 498653</td>\n",
       "      <td> 2014</td>\n",
       "      <td> N</td>\n",
       "      <td> 600042375</td>\n",
       "      <td> 2</td>\n",
       "      <td>  Pod Homolkou 1601</td>\n",
       "      <td> 26601</td>\n",
       "      <td>           Beroun</td>\n",
       "      <td> CZ020</td>\n",
       "      <td> CZ0202</td>\n",
       "      <td> 165</td>\n",
       "      <td> 165</td>\n",
       "      <td> 1.000000</td>\n",
       "      <td> 165</td>\n",
       "      <td>  0</td>\n",
       "      <td> N</td>\n",
       "    </tr>\n",
       "    <tr>\n",
       "      <th>3</th>\n",
       "      <td> 567043</td>\n",
       "      <td> 2014</td>\n",
       "      <td> N</td>\n",
       "      <td> 600025501</td>\n",
       "      <td> 7</td>\n",
       "      <td>        Školní 3208</td>\n",
       "      <td> 69701</td>\n",
       "      <td>            Kyjov</td>\n",
       "      <td> CZ064</td>\n",
       "      <td> CZ0645</td>\n",
       "      <td>  16</td>\n",
       "      <td>   7</td>\n",
       "      <td> 0.437500</td>\n",
       "      <td>   0</td>\n",
       "      <td>  7</td>\n",
       "      <td> A</td>\n",
       "    </tr>\n",
       "    <tr>\n",
       "      <th>4</th>\n",
       "      <td> 582573</td>\n",
       "      <td> 2014</td>\n",
       "      <td> N</td>\n",
       "      <td> 600000524</td>\n",
       "      <td> 6</td>\n",
       "      <td>    Příběnická 1435</td>\n",
       "      <td> 39001</td>\n",
       "      <td>            Tábor</td>\n",
       "      <td> CZ031</td>\n",
       "      <td> CZ0317</td>\n",
       "      <td>  84</td>\n",
       "      <td>  86</td>\n",
       "      <td> 1.023810</td>\n",
       "      <td>  86</td>\n",
       "      <td>  0</td>\n",
       "      <td> N</td>\n",
       "    </tr>\n",
       "  </tbody>\n",
       "</table>\n",
       "</div>"
      ],
      "text/plain": [
       "   IZONEW   ROK zruš    RED_IZO  ZRIZ               ULICE    PSČ  \\\n",
       "0   88251  2014    N  600024474     7       9. května 531  57101   \n",
       "1  391247  2014    N  600023401     7  E.Krásnohorské 921  46001   \n",
       "2  498653  2014    N  600042375     2   Pod Homolkou 1601  26601   \n",
       "3  567043  2014    N  600025501     7         Školní 3208  69701   \n",
       "4  582573  2014    N  600000524     6     Příběnická 1435  39001   \n",
       "\n",
       "              MÍSTO   KRAJ   OKRES  CILKAPA  počet dětí celkem  naplněnost  \\\n",
       "0  Moravská Třebová  CZ053  CZ0533       30                 14    0.466667   \n",
       "1           Liberec  CZ051  CZ0513       24                 24    1.000000   \n",
       "2            Beroun  CZ020  CZ0202      165                165    1.000000   \n",
       "3             Kyjov  CZ064  CZ0645       16                  7    0.437500   \n",
       "4             Tábor  CZ031  CZ0317       84                 86    1.023810   \n",
       "\n",
       "   počet dětí v běžných třídách  počet dětí ve speciálních třídách spec_škola  \n",
       "0                             0                                 14          A  \n",
       "1                             0                                 24          A  \n",
       "2                           165                                  0          N  \n",
       "3                             0                                  7          A  \n",
       "4                            86                                  0          N  "
      ]
     },
     "execution_count": 27,
     "metadata": {},
     "output_type": "execute_result"
    }
   ],
   "source": [
    "data.head()"
   ]
  },
  {
   "cell_type": "code",
   "execution_count": 68,
   "metadata": {
    "collapsed": false
   },
   "outputs": [],
   "source": [
    "naplnenost = pd.DataFrame(data.groupby('MÍSTO')['naplněnost'].mean()).reset_index()\n",
    "pocty = pd.DataFrame(data['MÍSTO'].value_counts()).reset_index()"
   ]
  },
  {
   "cell_type": "code",
   "execution_count": 79,
   "metadata": {
    "collapsed": false
   },
   "outputs": [],
   "source": [
    "naplnenost.merge(pocty, left_on='MÍSTO', right_on='index').sort([0,'naplněnost'], ascending=False).to_excel(r'data/naplnenost.xlsx')"
   ]
  },
  {
   "cell_type": "code",
   "execution_count": 80,
   "metadata": {
    "collapsed": false
   },
   "outputs": [],
   "source": [
    "data[data['naplněnost'] > 1].to_excel(r'data/preplnene.xlsx')"
   ]
  },
  {
   "cell_type": "code",
   "execution_count": 77,
   "metadata": {
    "collapsed": false
   },
   "outputs": [
    {
     "data": {
      "text/plain": [
       "15"
      ]
     },
     "execution_count": 77,
     "metadata": {},
     "output_type": "execute_result"
    }
   ],
   "source": [
    "len(data[data['MÍSTO'] == 'Ostrava'])"
   ]
  }
 ],
 "metadata": {
  "kernelspec": {
   "display_name": "Python 3",
   "language": "python",
   "name": "python3"
  },
  "language_info": {
   "codemirror_mode": {
    "name": "ipython",
    "version": 3
   },
   "file_extension": ".py",
   "mimetype": "text/x-python",
   "name": "python",
   "nbconvert_exporter": "python",
   "pygments_lexer": "ipython3",
   "version": "3.4.3"
  }
 },
 "nbformat": 4,
 "nbformat_minor": 0
}
